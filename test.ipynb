{
 "cells": [
  {
   "cell_type": "code",
   "id": "initial_id",
   "metadata": {
    "collapsed": true,
    "ExecuteTime": {
     "end_time": "2024-12-31T20:51:43.575860Z",
     "start_time": "2024-12-31T20:51:43.554475Z"
    }
   },
   "source": [
    "import time\n",
    "import asyncio\n",
    "import pandas as pd\n",
    "import matplotlib.pyplot as plt\n",
    "from langchain_openai import ChatOpenAI\n",
    "from browser_use.agent.service import Agent, AgentHistory\n",
    "\n",
    "def create_prompt(city, state, country, medical_need):\n",
    "    return f\"\"\"\n",
    "    I want to find a {medical_need} doctor that lives close to {city}, {state}, {country}. Return me the best option.\n",
    "    \"\"\"\n",
    "\n",
    "async def run_benchmark(test_cases):\n",
    "    results = []\n",
    "\n",
    "    for test in test_cases:\n",
    "        city = test['city']\n",
    "        state = test['state']\n",
    "        country = test['country']\n",
    "        medical_need = test['medical_need']\n",
    "\n",
    "        prompt = create_prompt(city, state, country, medical_need)\n",
    "\n",
    "        agent = Agent(\n",
    "            task=prompt,\n",
    "            llm=ChatOpenAI(model=\"gpt-4o\"),\n",
    "        )\n",
    "\n",
    "        start_time = time.time()\n",
    "        history: list[AgentHistory] = await agent.run()\n",
    "        end_time = time.time()\n",
    "\n",
    "        elapsed_time = end_time - start_time\n",
    "\n",
    "        results.append({\n",
    "            \"test_case\": f\"{city}, {state}, {country} ({medical_need})\",\n",
    "            \"history\": history,\n",
    "            \"time_taken\": elapsed_time\n",
    "        })\n",
    "\n",
    "    return results\n",
    "\n",
    "async def evaluate_results(results):\n",
    "    data = []\n",
    "\n",
    "    for res in results:\n",
    "        data.append({\n",
    "            \"Test Case\": res['test_case'],\n",
    "            \"Time Taken (s)\": res['time_taken'],\n",
    "        })\n",
    "\n",
    "    df = pd.DataFrame(data)\n",
    "\n",
    "    print(df)\n",
    "\n",
    "    plt.figure(figsize=(10, 6))\n",
    "    plt.bar(df[\"Test Case\"], df[\"Time Taken (s)\"])\n",
    "    plt.xlabel(\"Test Cases\")\n",
    "    plt.ylabel(\"Time Taken (seconds)\")\n",
    "    plt.title(\"Benchmark Results\")\n",
    "    plt.xticks(rotation=45, ha=\"right\")\n",
    "    plt.tight_layout()\n",
    "    plt.show()\n",
    "\n",
    "async def main():\n",
    "    test_cases = [\n",
    "        {\"city\": \"Princeton\", \"state\": \"New Jersey\", \"country\": \"United States\", \"medical_need\": \"LASIK\"},\n",
    "        {\"city\": \"New York\", \"state\": \"New York\", \"country\": \"United States\", \"medical_need\": \"Orthodontics\"},\n",
    "        {\"city\": \"San Francisco\", \"state\": \"California\", \"country\": \"United States\", \"medical_need\": \"Dermatology\"},\n",
    "    ]\n",
    "\n",
    "    results = await run_benchmark(test_cases)\n",
    "    await evaluate_results(results)\n",
    "    print(results)\n",
    "    \n",
    "\n",
    "\n",
    "if __name__ == \"__main__\":\n",
    "    loop = asyncio.get_event_loop()\n",
    "    if loop.is_running():\n",
    "        asyncio.ensure_future(main())\n",
    "    else:\n",
    "        asyncio.run(main())\n",
    "\n"
   ],
   "outputs": [
    {
     "ename": "NameError",
     "evalue": "name 'results' is not defined",
     "output_type": "error",
     "traceback": [
      "\u001B[0;31m---------------------------------------------------------------------------\u001B[0m",
      "\u001B[0;31mNameError\u001B[0m                                 Traceback (most recent call last)",
      "Cell \u001B[0;32mIn[3], line 82\u001B[0m\n\u001B[1;32m     79\u001B[0m     \u001B[38;5;28;01melse\u001B[39;00m:\n\u001B[1;32m     80\u001B[0m         asyncio\u001B[38;5;241m.\u001B[39mrun(main())\n\u001B[0;32m---> 82\u001B[0m \u001B[38;5;28mprint\u001B[39m(results)\n",
      "\u001B[0;31mNameError\u001B[0m: name 'results' is not defined"
     ]
    }
   ],
   "execution_count": 3
  },
  {
   "metadata": {},
   "cell_type": "code",
   "outputs": [],
   "execution_count": null,
   "source": "",
   "id": "8b5996c2cbb17bbe"
  }
 ],
 "metadata": {
  "kernelspec": {
   "display_name": "Python 3",
   "language": "python",
   "name": "python3"
  },
  "language_info": {
   "codemirror_mode": {
    "name": "ipython",
    "version": 2
   },
   "file_extension": ".py",
   "mimetype": "text/x-python",
   "name": "python",
   "nbconvert_exporter": "python",
   "pygments_lexer": "ipython2",
   "version": "2.7.6"
  }
 },
 "nbformat": 4,
 "nbformat_minor": 5
}
